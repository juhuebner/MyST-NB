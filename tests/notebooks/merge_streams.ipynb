{
  "cells": [
    {
      "cell_type": "code",
      "execution_count": 1,
      "source": [
        "import sys\n",
        "print('stdout1', file=sys.stdout)\n",
        "print('stdout2', file=sys.stdout)\n",
        "print('stderr1', file=sys.stderr)\n",
        "print('stderr2', file=sys.stderr)\n",
        "print('stdout3', file=sys.stdout)\n",
        "print('stderr3', file=sys.stderr)\n",
        "1"
      ],
      "outputs": [
        {
          "output_type": "stream",
          "name": "stdout",
          "text": [
            "stdout1\n",
            "stdout2\n"
          ]
        },
        {
          "output_type": "stream",
          "name": "stderr",
          "text": [
            "stderr1\n",
            "stderr2\n"
          ]
        },
        {
          "output_type": "stream",
          "name": "stdout",
          "text": [
            "stdout3\n"
          ]
        },
        {
          "output_type": "stream",
          "name": "stderr",
          "text": [
            "stderr3\n"
          ]
        },
        {
          "output_type": "execute_result",
          "data": {
            "text/plain": [
              "1"
            ]
          },
          "metadata": {},
          "execution_count": 1
        }
      ],
      "metadata": {}
    }
  ],
  "metadata": {
    "kernelspec": {
      "display_name": "Python 3",
      "language": "python",
      "name": "python3"
    },
    "language_info": {
      "codemirror_mode": {
        "name": "ipython",
        "version": 3
      },
      "file_extension": ".py",
      "mimetype": "text/x-python",
      "name": "python",
      "nbconvert_exporter": "python",
      "pygments_lexer": "ipython3",
      "version": "3.6.1"
    }
  },
  "nbformat": 4,
  "nbformat_minor": 2
}
