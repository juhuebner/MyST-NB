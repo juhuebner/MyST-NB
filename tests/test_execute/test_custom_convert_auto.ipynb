{
 "cells": [
  {
   "cell_type": "raw",
   "id": "96daa1fa",
   "metadata": {},
   "source": [
    "---\n",
    "title: \"Test chunk options in Rmd/Jupyter conversion\"\n",
    "author: \"Marc Wouts\"\n",
    "date: \"June 16, 2018\"\n",
    "---"
   ]
  },
  {
   "cell_type": "markdown",
   "id": "213fcb7e",
   "metadata": {},
   "source": [
    "# Custom Formats"
   ]
  },
  {
   "cell_type": "code",
   "execution_count": 1,
   "id": "e4b22e8e",
   "metadata": {
    "echo": true
   },
   "outputs": [],
   "source": [
    "import pandas as pd\n",
    "x = pd.Series({'A':1, 'B':3, 'C':2})"
   ]
  },
  {
   "cell_type": "code",
   "execution_count": 2,
   "id": "7c1ad157",
   "metadata": {
    "fig.height": 5,
    "fig.width": 8,
    "name": "bar_plot",
    "tags": [
     "remove_input"
    ]
   },
   "outputs": [
    {
     "data": {
      "text/plain": [
       "<AxesSubplot:title={'center':'Sample plot'}>"
      ]
     },
     "execution_count": 2,
     "metadata": {},
     "output_type": "execute_result"
    },
    {
     "data": {
      "image/png": "[encoded data removed]",
      "text/plain": [
       "<Figure size 432x288 with 1 Axes>"
      ]
     },
     "metadata": {
      "filenames": {
       "image/png": "/private/var/folders/_w/bsp9j6414gs4gdlnhhcnqm9c0000gn/T/pytest-of-matthewmckay/pytest-37/test_custom_convert_auto0/source/_build/jupyter_execute/custom-formats_3_1.png"
      },
      "needs_background": "light"
     },
     "output_type": "display_data"
    }
   ],
   "source": [
    "x.plot(kind='bar', title='Sample plot')"
   ]
  }
 ],
 "metadata": {
  "jupytext": {
   "text_representation": {
    "extension": ".Rmd",
    "format_name": "rmarkdown"
   }
  },
  "kernelspec": {
   "display_name": "Python",
   "language": "python",
   "name": "python3"
  },
  "language_info": {
   "codemirror_mode": {
    "name": "ipython",
    "version": 3
   },
   "file_extension": ".py",
   "mimetype": "text/x-python",
   "name": "python",
   "nbconvert_exporter": "python",
   "pygments_lexer": "ipython3",
   "version": "3.8.10"
  }
 },
 "nbformat": 4,
 "nbformat_minor": 5
}
